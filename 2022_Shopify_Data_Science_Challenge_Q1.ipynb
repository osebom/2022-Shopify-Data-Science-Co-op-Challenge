{
  "nbformat": 4,
  "nbformat_minor": 0,
  "metadata": {
    "colab": {
      "name": "2022 Shopify Data Science Challenge Q1.ipynb",
      "provenance": []
    },
    "kernelspec": {
      "name": "python3",
      "display_name": "Python 3"
    },
    "language_info": {
      "name": "python"
    }
  },
  "cells": [
    {
      "cell_type": "code",
      "execution_count": 24,
      "metadata": {
        "id": "mQzA8uyR0gse"
      },
      "outputs": [],
      "source": [
        "import pandas as pd\n",
        "import numpy as np\n",
        "import seaborn as sns"
      ]
    },
    {
      "cell_type": "code",
      "source": [
        "data = pd.read_csv(\"2019 Challenge.csv\")\n",
        "data.head()"
      ],
      "metadata": {
        "colab": {
          "base_uri": "https://localhost:8080/",
          "height": 206
        },
        "id": "y7flhgh70lPU",
        "outputId": "9ed2bd2d-89cf-4f8f-9a4a-ffb340ca533b"
      },
      "execution_count": 25,
      "outputs": [
        {
          "output_type": "execute_result",
          "data": {
            "text/html": [
              "\n",
              "  <div id=\"df-11611aaa-f2ec-4d6b-ac91-e6d34981b10f\">\n",
              "    <div class=\"colab-df-container\">\n",
              "      <div>\n",
              "<style scoped>\n",
              "    .dataframe tbody tr th:only-of-type {\n",
              "        vertical-align: middle;\n",
              "    }\n",
              "\n",
              "    .dataframe tbody tr th {\n",
              "        vertical-align: top;\n",
              "    }\n",
              "\n",
              "    .dataframe thead th {\n",
              "        text-align: right;\n",
              "    }\n",
              "</style>\n",
              "<table border=\"1\" class=\"dataframe\">\n",
              "  <thead>\n",
              "    <tr style=\"text-align: right;\">\n",
              "      <th></th>\n",
              "      <th>order_id</th>\n",
              "      <th>shop_id</th>\n",
              "      <th>user_id</th>\n",
              "      <th>order_amount</th>\n",
              "      <th>total_items</th>\n",
              "      <th>payment_method</th>\n",
              "      <th>created_at</th>\n",
              "    </tr>\n",
              "  </thead>\n",
              "  <tbody>\n",
              "    <tr>\n",
              "      <th>0</th>\n",
              "      <td>1</td>\n",
              "      <td>53</td>\n",
              "      <td>746</td>\n",
              "      <td>224</td>\n",
              "      <td>2</td>\n",
              "      <td>cash</td>\n",
              "      <td>2017-03-13 12:36:56</td>\n",
              "    </tr>\n",
              "    <tr>\n",
              "      <th>1</th>\n",
              "      <td>2</td>\n",
              "      <td>92</td>\n",
              "      <td>925</td>\n",
              "      <td>90</td>\n",
              "      <td>1</td>\n",
              "      <td>cash</td>\n",
              "      <td>2017-03-03 17:38:52</td>\n",
              "    </tr>\n",
              "    <tr>\n",
              "      <th>2</th>\n",
              "      <td>3</td>\n",
              "      <td>44</td>\n",
              "      <td>861</td>\n",
              "      <td>144</td>\n",
              "      <td>1</td>\n",
              "      <td>cash</td>\n",
              "      <td>2017-03-14 4:23:56</td>\n",
              "    </tr>\n",
              "    <tr>\n",
              "      <th>3</th>\n",
              "      <td>4</td>\n",
              "      <td>18</td>\n",
              "      <td>935</td>\n",
              "      <td>156</td>\n",
              "      <td>1</td>\n",
              "      <td>credit_card</td>\n",
              "      <td>2017-03-26 12:43:37</td>\n",
              "    </tr>\n",
              "    <tr>\n",
              "      <th>4</th>\n",
              "      <td>5</td>\n",
              "      <td>18</td>\n",
              "      <td>883</td>\n",
              "      <td>156</td>\n",
              "      <td>1</td>\n",
              "      <td>credit_card</td>\n",
              "      <td>2017-03-01 4:35:11</td>\n",
              "    </tr>\n",
              "  </tbody>\n",
              "</table>\n",
              "</div>\n",
              "      <button class=\"colab-df-convert\" onclick=\"convertToInteractive('df-11611aaa-f2ec-4d6b-ac91-e6d34981b10f')\"\n",
              "              title=\"Convert this dataframe to an interactive table.\"\n",
              "              style=\"display:none;\">\n",
              "        \n",
              "  <svg xmlns=\"http://www.w3.org/2000/svg\" height=\"24px\"viewBox=\"0 0 24 24\"\n",
              "       width=\"24px\">\n",
              "    <path d=\"M0 0h24v24H0V0z\" fill=\"none\"/>\n",
              "    <path d=\"M18.56 5.44l.94 2.06.94-2.06 2.06-.94-2.06-.94-.94-2.06-.94 2.06-2.06.94zm-11 1L8.5 8.5l.94-2.06 2.06-.94-2.06-.94L8.5 2.5l-.94 2.06-2.06.94zm10 10l.94 2.06.94-2.06 2.06-.94-2.06-.94-.94-2.06-.94 2.06-2.06.94z\"/><path d=\"M17.41 7.96l-1.37-1.37c-.4-.4-.92-.59-1.43-.59-.52 0-1.04.2-1.43.59L10.3 9.45l-7.72 7.72c-.78.78-.78 2.05 0 2.83L4 21.41c.39.39.9.59 1.41.59.51 0 1.02-.2 1.41-.59l7.78-7.78 2.81-2.81c.8-.78.8-2.07 0-2.86zM5.41 20L4 18.59l7.72-7.72 1.47 1.35L5.41 20z\"/>\n",
              "  </svg>\n",
              "      </button>\n",
              "      \n",
              "  <style>\n",
              "    .colab-df-container {\n",
              "      display:flex;\n",
              "      flex-wrap:wrap;\n",
              "      gap: 12px;\n",
              "    }\n",
              "\n",
              "    .colab-df-convert {\n",
              "      background-color: #E8F0FE;\n",
              "      border: none;\n",
              "      border-radius: 50%;\n",
              "      cursor: pointer;\n",
              "      display: none;\n",
              "      fill: #1967D2;\n",
              "      height: 32px;\n",
              "      padding: 0 0 0 0;\n",
              "      width: 32px;\n",
              "    }\n",
              "\n",
              "    .colab-df-convert:hover {\n",
              "      background-color: #E2EBFA;\n",
              "      box-shadow: 0px 1px 2px rgba(60, 64, 67, 0.3), 0px 1px 3px 1px rgba(60, 64, 67, 0.15);\n",
              "      fill: #174EA6;\n",
              "    }\n",
              "\n",
              "    [theme=dark] .colab-df-convert {\n",
              "      background-color: #3B4455;\n",
              "      fill: #D2E3FC;\n",
              "    }\n",
              "\n",
              "    [theme=dark] .colab-df-convert:hover {\n",
              "      background-color: #434B5C;\n",
              "      box-shadow: 0px 1px 3px 1px rgba(0, 0, 0, 0.15);\n",
              "      filter: drop-shadow(0px 1px 2px rgba(0, 0, 0, 0.3));\n",
              "      fill: #FFFFFF;\n",
              "    }\n",
              "  </style>\n",
              "\n",
              "      <script>\n",
              "        const buttonEl =\n",
              "          document.querySelector('#df-11611aaa-f2ec-4d6b-ac91-e6d34981b10f button.colab-df-convert');\n",
              "        buttonEl.style.display =\n",
              "          google.colab.kernel.accessAllowed ? 'block' : 'none';\n",
              "\n",
              "        async function convertToInteractive(key) {\n",
              "          const element = document.querySelector('#df-11611aaa-f2ec-4d6b-ac91-e6d34981b10f');\n",
              "          const dataTable =\n",
              "            await google.colab.kernel.invokeFunction('convertToInteractive',\n",
              "                                                     [key], {});\n",
              "          if (!dataTable) return;\n",
              "\n",
              "          const docLinkHtml = 'Like what you see? Visit the ' +\n",
              "            '<a target=\"_blank\" href=https://colab.research.google.com/notebooks/data_table.ipynb>data table notebook</a>'\n",
              "            + ' to learn more about interactive tables.';\n",
              "          element.innerHTML = '';\n",
              "          dataTable['output_type'] = 'display_data';\n",
              "          await google.colab.output.renderOutput(dataTable, element);\n",
              "          const docLink = document.createElement('div');\n",
              "          docLink.innerHTML = docLinkHtml;\n",
              "          element.appendChild(docLink);\n",
              "        }\n",
              "      </script>\n",
              "    </div>\n",
              "  </div>\n",
              "  "
            ],
            "text/plain": [
              "   order_id  shop_id  user_id  ...  total_items  payment_method           created_at\n",
              "0         1       53      746  ...            2            cash  2017-03-13 12:36:56\n",
              "1         2       92      925  ...            1            cash  2017-03-03 17:38:52\n",
              "2         3       44      861  ...            1            cash   2017-03-14 4:23:56\n",
              "3         4       18      935  ...            1     credit_card  2017-03-26 12:43:37\n",
              "4         5       18      883  ...            1     credit_card   2017-03-01 4:35:11\n",
              "\n",
              "[5 rows x 7 columns]"
            ]
          },
          "metadata": {},
          "execution_count": 25
        }
      ]
    },
    {
      "cell_type": "markdown",
      "source": [
        "Check for missing data"
      ],
      "metadata": {
        "id": "zLWMHMeyjCve"
      }
    },
    {
      "cell_type": "code",
      "source": [
        "data.isnull().values.sum()"
      ],
      "metadata": {
        "colab": {
          "base_uri": "https://localhost:8080/"
        },
        "id": "HuFEJnm_iB38",
        "outputId": "d456289c-273e-4941-a2cd-575a47138421"
      },
      "execution_count": 3,
      "outputs": [
        {
          "output_type": "execute_result",
          "data": {
            "text/plain": [
              "0"
            ]
          },
          "metadata": {},
          "execution_count": 3
        }
      ]
    },
    {
      "cell_type": "code",
      "source": [
        "print(\"There are\",len(data),\"rows\")"
      ],
      "metadata": {
        "colab": {
          "base_uri": "https://localhost:8080/"
        },
        "id": "KJOL7G4MURml",
        "outputId": "5a6690c2-a7fb-4f04-c622-c914711e1e38"
      },
      "execution_count": 4,
      "outputs": [
        {
          "output_type": "stream",
          "name": "stdout",
          "text": [
            "There are 5000 rows\n"
          ]
        }
      ]
    },
    {
      "cell_type": "code",
      "source": [
        "data['order_amount'].max()"
      ],
      "metadata": {
        "colab": {
          "base_uri": "https://localhost:8080/"
        },
        "id": "PWE-mJdKe6AM",
        "outputId": "829e3e57-a32a-4e15-8b85-d27595b8b0f7"
      },
      "execution_count": 94,
      "outputs": [
        {
          "output_type": "execute_result",
          "data": {
            "text/plain": [
              "704000"
            ]
          },
          "metadata": {},
          "execution_count": 94
        }
      ]
    },
    {
      "cell_type": "code",
      "source": [
        "data.nunique()"
      ],
      "metadata": {
        "colab": {
          "base_uri": "https://localhost:8080/"
        },
        "id": "Nv9jkNRCW74q",
        "outputId": "b2e1699a-13a2-489b-f1a9-b6925acdbbda"
      },
      "execution_count": 5,
      "outputs": [
        {
          "output_type": "execute_result",
          "data": {
            "text/plain": [
              "order_id          5000\n",
              "shop_id            100\n",
              "user_id            301\n",
              "order_amount       258\n",
              "total_items          8\n",
              "payment_method       3\n",
              "created_at        4991\n",
              "dtype: int64"
            ]
          },
          "metadata": {},
          "execution_count": 5
        }
      ]
    },
    {
      "cell_type": "markdown",
      "source": [
        "# QUESTION 1A"
      ],
      "metadata": {
        "id": "R5DWmd6EQtSD"
      }
    },
    {
      "cell_type": "code",
      "source": [
        "print(data['order_amount'].sum()/len(data['order_amount']))"
      ],
      "metadata": {
        "colab": {
          "base_uri": "https://localhost:8080/"
        },
        "id": "mmbNe-3KG4Ut",
        "outputId": "42820af9-b031-4e7e-bf11-deaa3043de04"
      },
      "execution_count": 90,
      "outputs": [
        {
          "output_type": "stream",
          "name": "stdout",
          "text": [
            "3145.128\n"
          ]
        }
      ]
    },
    {
      "cell_type": "markdown",
      "source": [
        "The original AOV value in the description was calculated by simply taking the total Order Amount divided the numbe of rows, thus the number of transactions. This is problemtic because it doesn't account for the number of total items as shown above. \n",
        "\n",
        "According to most sources, AOV tracks the average dollar amount spent each time a customer places an order and is calculated by dividing the total revenue by the total number of order. As shown below, that results in $357.92 (shown below)."
      ],
      "metadata": {
        "id": "HUaZW7Y8BV88"
      }
    },
    {
      "cell_type": "code",
      "source": [
        "value = data['order_amount'].sum()/data['total_items'].sum()\n",
        "print(value)"
      ],
      "metadata": {
        "colab": {
          "base_uri": "https://localhost:8080/"
        },
        "id": "8n63eXVSQyKj",
        "outputId": "d3483e51-0ff8-401b-8cc7-263ef904a0e2"
      },
      "execution_count": 9,
      "outputs": [
        {
          "output_type": "stream",
          "name": "stdout",
          "text": [
            "357.92152221412965\n"
          ]
        }
      ]
    },
    {
      "cell_type": "markdown",
      "source": [
        "Alternatively, we could have also divided the Order Amount by the Total Items to get the average value of each specific order but that wouldn't have been wise because that assumes that in a given transaction with more item, all items costs the same amount (as shown below)."
      ],
      "metadata": {
        "id": "cnfjuJ5hNC1r"
      }
    },
    {
      "cell_type": "code",
      "source": [
        "#data['amount / items'] = data['order_amount']/data['total_items']\n",
        "#value1 = data['amount / items'].sum()/len(data)\n",
        "#Value would have been $387.74"
      ],
      "metadata": {
        "id": "N6myHDplRfCY"
      },
      "execution_count": 91,
      "outputs": []
    },
    {
      "cell_type": "markdown",
      "source": [
        "# QUESTION 1B & C"
      ],
      "metadata": {
        "id": "l2yBXCV2CTV5"
      }
    },
    {
      "cell_type": "code",
      "source": [
        "pd.value_counts(data['total_items']).plot.bar()"
      ],
      "metadata": {
        "colab": {
          "base_uri": "https://localhost:8080/",
          "height": 297
        },
        "id": "I_z5O1WCjGiK",
        "outputId": "34d08057-d372-4a40-99b0-d56db6593ac1"
      },
      "execution_count": 92,
      "outputs": [
        {
          "output_type": "execute_result",
          "data": {
            "text/plain": [
              "<matplotlib.axes._subplots.AxesSubplot at 0x7f4c2f53ef10>"
            ]
          },
          "metadata": {},
          "execution_count": 92
        },
        {
          "output_type": "display_data",
          "data": {
            "image/png": "[encoded data removed]",
            "text/plain": [
              "<Figure size 432x288 with 1 Axes>"
            ]
          },
          "metadata": {
            "needs_background": "light"
          }
        }
      ]
    },
    {
      "cell_type": "markdown",
      "source": [
        "The distribution plot above shows us that the data is skewed because there was a transaction that had 2000 items, likely a bulk order. Consequently, it would be better to use the median as a metric because it filters out values that are skewing the results. As shown below, that results in $284."
      ],
      "metadata": {
        "id": "WHUPNK8ejHxr"
      }
    },
    {
      "cell_type": "code",
      "source": [
        "data['order_amount'].median()"
      ],
      "metadata": {
        "colab": {
          "base_uri": "https://localhost:8080/"
        },
        "id": "gmTc1_b6BJ2c",
        "outputId": "77b3445a-0ef2-489e-c6bb-cc590d314d34"
      },
      "execution_count": 11,
      "outputs": [
        {
          "output_type": "execute_result",
          "data": {
            "text/plain": [
              "284.0"
            ]
          },
          "metadata": {},
          "execution_count": 11
        }
      ]
    },
    {
      "cell_type": "markdown",
      "source": [
        "Furthermore, the description of the data showed us that there are 5000 different transactions, yet only 301 different users. This being said maybe we would want to look at the AOV for each of those 30 days and see how it evolves as a metric. This way, it would be easy to point out any outliers, such as the 2000 bulk order or it could help us spot a sudden rise in popularity. \n"
      ],
      "metadata": {
        "id": "Cc-bxJtoC1Gt"
      }
    },
    {
      "cell_type": "code",
      "source": [
        "data['day']= data['created_at'].str[0:10]\n",
        "data['day'].min()\n",
        "data['day'] = data['day'].astype(str)\n",
        "data['day']=pd.to_datetime(data['day'])\n",
        "data.index=data['day'] \n",
        "df=data.groupby(pd.Grouper(freq='D')).sum() \n",
        "df = pd.DataFrame(data=df)\n",
        "df['AOV'] = df['order_amount']/df['total_items']\n",
        "df['AOV'].plot(kind='bar')\n",
        "print(\"The average AOV per day is $\", df['AOV'].mean())"
      ],
      "metadata": {
        "colab": {
          "base_uri": "https://localhost:8080/",
          "height": 391
        },
        "id": "byZKw47wI9sF",
        "outputId": "60980ab6-9c91-4bcf-d9b2-a00c1463f0f2"
      },
      "execution_count": 93,
      "outputs": [
        {
          "output_type": "stream",
          "name": "stdout",
          "text": [
            "The average AOV per day is $ 377.8780865746204\n"
          ]
        },
        {
          "output_type": "display_data",
          "data": {
            "image/png": "[encoded data removed]",
            "text/plain": [
              "<Figure size 432x288 with 1 Axes>"
            ]
          },
          "metadata": {
            "needs_background": "light"
          }
        }
      ]
    },
    {
      "cell_type": "markdown",
      "source": [
        "As shown above, the AOV seems to be the same around the same for most days aside March 16th, 18th, 26th and 27th (the bulk order was likely on the 16th). Additionally, we calculated the average AOV per day to be $377.87.\n",
        "\n"
      ],
      "metadata": {
        "id": "TL4Ic5mWjsL2"
      }
    },
    {
      "cell_type": "markdown",
      "source": [
        "Lastly, another interesting metric to look into would be the median revenue made per shop for each transaction they process. The calculation below shows us that on average (accounting for outliers), each shops makes $153 for every transaction over a 30-day period.  "
      ],
      "metadata": {
        "id": "yRLiwkOllGyA"
      }
    },
    {
      "cell_type": "code",
      "source": [
        "shops = data.groupby(\"shop_id\")\n",
        "#avg_shop = shops['order_amount'].sum()\n",
        "avg_shop = shops['order_amount'].sum()/shops['total_items'].sum()\n",
        "avg_shop = avg_shop.median()\n",
        "avg_shop"
      ],
      "metadata": {
        "colab": {
          "base_uri": "https://localhost:8080/"
        },
        "id": "RXz02PcEMBZh",
        "outputId": "9a1a473a-1eae-4ad4-c4b3-1ea368a91dac"
      },
      "execution_count": 103,
      "outputs": [
        {
          "output_type": "execute_result",
          "data": {
            "text/plain": [
              "153.0"
            ]
          },
          "metadata": {},
          "execution_count": 103
        }
      ]
    }
  ]
}